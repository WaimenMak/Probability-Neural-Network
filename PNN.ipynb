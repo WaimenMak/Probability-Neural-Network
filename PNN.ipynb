{
 "cells": [
  {
   "cell_type": "code",
   "execution_count": 1,
   "metadata": {
    "collapsed": true
   },
   "outputs": [],
   "source": [
    "import numpy as np\n",
    "import pandas as pd\n",
    "from numpy import *\n",
    "from sklearn.model_selection import train_test_split\n",
    "from sklearn.metrics import accuracy_score\n",
    "from sklearn.metrics import roc_auc_score\n",
    "from sklearn.metrics import recall_score\n",
    "from sklearn.metrics import f1_score"
   ]
  },
  {
   "cell_type": "code",
   "execution_count": 2,
   "metadata": {
    "collapsed": true
   },
   "outputs": [],
   "source": [
    "def autoNorm(dataSet):\n",
    "    #获得数据的最小值\n",
    "    minVals = dataSet.min(0)\n",
    "    maxVals = dataSet.max(0)\n",
    "    #最大值和最小值的范围\n",
    "    ranges = maxVals - minVals\n",
    "    #shape(dataSet)返回dataSet的矩阵行列数\n",
    "    normDataSet = np.zeros(np.shape(dataSet))\n",
    "    #返回dataSet的行数\n",
    "    m = dataSet.shape[0]\n",
    "    #原始值减去最小值\n",
    "    normDataSet = dataSet - np.tile(minVals, (m, 1))\n",
    "    #除以最大和最小值的差,得到归一化数据\n",
    "    normDataSet = normDataSet / np.tile(ranges, (m, 1))\n",
    "    #返回归一化数据结果,数据范围,最小值\n",
    "    return normDataSet"
   ]
  },
  {
   "cell_type": "code",
   "execution_count": 22,
   "metadata": {
    "collapsed": true
   },
   "outputs": [],
   "source": [
    "class Probability_NN:\n",
    "    def __init__(self, feature_num, sigma = 1):\n",
    "        self.feature_num = feature_num\n",
    "        self.class_num = 2\n",
    "        self.sigma = sigma\n",
    "        self.choice = 1 #正太窗口\n",
    "        self.prior_0 = 0           #每个类的先验概率\n",
    "        self.prior_1 = 0\n",
    "        \n",
    "    def learn(self, x_data, y_data):  #只读入train_set\n",
    "        self.class0, self.class1 = self.split_the_data(x_data, y_data)  #without label\n",
    "        self.prior_0 = self.class0.shape[0]/(self.class0.shape[0]+self.class1.shape[0])    #p(w1) = N1/(N1+N2)\n",
    "        self.prior_1 = 1-self.prior_0\n",
    "        \n",
    "    def predict(self,x_test):     #读入test_set中的某个样本\n",
    "        prediction = self.feedforward(x_test)\n",
    "\n",
    "        return prediction\n",
    "              \n",
    "    def feedforward(self,x_sample):     #x_sample即x_test\n",
    "        likehood_0 = self.Parzen_window(self.choice,x_sample,self.class0)   #计算似然\n",
    "        likehood_1 = self.Parzen_window(self.choice,x_sample,self.class1)\n",
    "        \n",
    "        posterior_0 = likehood_0 * self.prior_0                  #计算后验概率\n",
    "        posterior_1 = likehood_1 * self.prior_1\n",
    "        \n",
    "        if posterior_0 > posterior_1:\n",
    "            return 0\n",
    "        \n",
    "        return 1\n",
    "                     \n",
    "    def Parzen_window(self,choice,x_sample,group):\n",
    "        k_N = 0\n",
    "        N = group.shape[0]\n",
    "        d = self.feature_num\n",
    "        h_N = self.sigma/np.sqrt(N)     #the width of the window\n",
    "        if choice == 1:     #正太窗\n",
    "            for i in range(N):\n",
    "                dist = np.linalg.norm(group[i] - x_sample)\n",
    "                k_N += 1/(2*pi)**(d/2)*exp(-1/2*(dist/h_N)**2)\n",
    "                \n",
    "            likehood = k_N/(N*h_N**d)\n",
    "            \n",
    "        return likehood\n",
    "            \n",
    "\n",
    "    def split_the_data(self, Data,label):           # Data没有label\n",
    "        #将数据划分为2类       \n",
    "        #0代表负类（多数类），1代表正类（少数类）\n",
    "        Mclass_0 = Data[np.where(label == 0)]\n",
    "        Mclass_1 = Data[np.where(label == 1)]\n",
    "\n",
    "        return Mclass_0, Mclass_1"
   ]
  },
  {
   "cell_type": "code",
   "execution_count": 19,
   "metadata": {
    "collapsed": true
   },
   "outputs": [],
   "source": [
    "#数据读取(pima)\n",
    "#skiprows[a,b,c,d] abcd行不读取//// sep=‘\\s+’识别切割的字符（空格，或多个空格），默认为 “，”。\n",
    "name = '01.87_pima.dat'\n",
    "skip = []\n",
    "\n",
    "#需要忽略的行数\n",
    "n = -1   \n",
    "\n",
    "for line in open(name):\n",
    "    n += 1\n",
    "    if line[0] != '@':\n",
    "        break\n",
    "\n",
    "for i in range(n):\n",
    "    skip.append(i)\n",
    "\n",
    "data = pd.read_table(name,header=None,skiprows = skip,sep='\\s+')\n",
    "\n",
    "sample_num = data.shape[0]\n",
    "feature_num = data.shape[1]-1\n",
    "fea = feature_num\n",
    "if feature_num == 0:\n",
    "    feature_num = len(data.values[0][0].split(','))-1\n",
    "#print(\"样本数量:\",sample_num)\n",
    "#print(\"特征数量:\",feature_num)\n",
    "#print(dataname)\n",
    "#print(type(data))\n",
    "\n",
    "#将数据存入一个矩阵\n",
    "matrix = np.zeros((sample_num,feature_num+1))\n",
    "if fea != 0:\n",
    "    for i in range(sample_num):\n",
    "        for j in range(feature_num+1):\n",
    "            if j<feature_num:\n",
    "                d_value = float(data[j][i].rstrip(','))\n",
    "                matrix[i][j] = d_value\n",
    "            else:\n",
    "                if data[j][i]=='positive':\n",
    "                    matrix[i][j] = 1\n",
    "                else:\n",
    "                    matrix[i][j] = 0\n",
    "else:\n",
    "    for i in range(sample_num):\n",
    "        str_data = data.values[i][0].split(',')\n",
    "        for j in range(feature_num+1):\n",
    "            if j<feature_num:\n",
    "                d_value = float(str_data[j])\n",
    "                matrix[i][j] = d_value\n",
    "            else:\n",
    "                if str_data[j]=='positive':\n",
    "                    matrix[i][j] = 1\n",
    "                else:\n",
    "                    matrix[i][j] = 0"
   ]
  },
  {
   "cell_type": "code",
   "execution_count": 7,
   "metadata": {
    "collapsed": true
   },
   "outputs": [],
   "source": [
    "data = matrix"
   ]
  },
  {
   "cell_type": "code",
   "execution_count": 40,
   "metadata": {},
   "outputs": [
    {
     "name": "stdout",
     "output_type": "stream",
     "text": [
      "acc: 0.835\n",
      "auc: 0.835\n",
      "recall: 0.81\n",
      "f1_score: 0.8307692307692308\n"
     ]
    }
   ],
   "source": [
    "if __name__ == \"__main__\":\n",
    "    \n",
    "#     data_frame =  pd.read_csv(\"2019_LOTAAS_1_Lyon_Features (8).csv\", header=None)\n",
    "    data_frame =  pd.read_csv(\"data4.csv\", header=None)\n",
    "    data = np.array(data_frame)\n",
    "    feature_num = data.shape[1]-1\n",
    "    x_data = data[:,0:feature_num]    #without label\n",
    "    y_data = mat(data[:,feature_num]).T\n",
    "    x_data_norm = autoNorm(x_data)\n",
    "\n",
    "    x_train, x_test, y_train, y_test = train_test_split(x_data_norm, y_data,test_size=0.2,stratify=y_data)\n",
    "    \n",
    "    prediction = np.zeros([1,y_test.shape[0]])\n",
    "\n",
    "    PNN = Probability_NN(feature_num) \n",
    "\n",
    "    PNN.learn(x_train,y_train)         #建立实例\n",
    "\n",
    "    #开始测试\n",
    "    for i in range(x_test.shape[0]):\n",
    "        prediction[0,i] = PNN.predict(x_test[i])\n",
    "        \n",
    "    acc = accuracy_score(y_test,prediction.T)\n",
    "    auc = roc_auc_score(array(y_test),prediction.T) #按label\n",
    "    f1 = f1_score(array(y_test),prediction.T)\n",
    "    recall = recall_score(array(y_test),prediction.T)\n",
    "    \n",
    "    print('acc:',acc)\n",
    "    print('auc:',auc)\n",
    "    print('recall:',recall)\n",
    "    print('f1_score:',f1)"
   ]
  },
  {
   "cell_type": "code",
   "execution_count": 81,
   "metadata": {},
   "outputs": [
    {
     "data": {
      "text/plain": [
       "2"
      ]
     },
     "execution_count": 81,
     "metadata": {},
     "output_type": "execute_result"
    }
   ],
   "source": [
    "feature_num = data.shape[1]-1\n",
    "x_data = data[:,0:feature_num]    #without label\n",
    "y_data = mat(data[:,feature_num]).T\n",
    "x_data_norm = autoNorm(x_data)\n",
    "x_train, x_test, y_train, y_test = train_test_split(x_data_norm, y_data,test_size=0.2)\n",
    "feature_num"
   ]
  },
  {
   "cell_type": "code",
   "execution_count": 41,
   "metadata": {},
   "outputs": [
    {
     "data": {
      "text/plain": [
       "array([[0., 0., 1., 0., 1., 0., 1., 0., 1., 1., 1., 1., 1., 1., 1., 1.,\n",
       "        0., 0., 0., 1., 1., 0., 1., 0., 0., 1., 1., 0., 1., 1., 1., 1.,\n",
       "        0., 0., 1., 0., 1., 1., 0., 1., 0., 1., 0., 1., 0., 1., 0., 1.,\n",
       "        0., 1., 1., 0., 1., 1., 0., 0., 1., 0., 1., 0., 1., 1., 1., 0.,\n",
       "        1., 0., 0., 1., 0., 1., 0., 1., 0., 1., 0., 1., 1., 0., 0., 1.,\n",
       "        1., 1., 1., 0., 0., 1., 1., 1., 0., 0., 0., 1., 1., 1., 0., 0.,\n",
       "        1., 0., 1., 1., 0., 0., 0., 1., 1., 1., 1., 0., 0., 1., 0., 1.,\n",
       "        0., 0., 0., 1., 0., 0., 0., 0., 1., 0., 0., 1., 0., 0., 0., 0.,\n",
       "        0., 1., 1., 1., 1., 0., 0., 1., 1., 0., 1., 1., 0., 1., 0., 1.,\n",
       "        1., 1., 0., 0., 1., 0., 0., 0., 1., 0., 1., 1., 0., 0., 0., 0.,\n",
       "        0., 0., 1., 1., 0., 1., 0., 0., 1., 0., 0., 0., 1., 1., 1., 1.,\n",
       "        0., 1., 1., 0., 1., 1., 0., 1., 1., 0., 0., 1., 0., 0., 1., 1.,\n",
       "        0., 1., 1., 1., 0., 1., 1., 1., 1., 1., 1., 1., 1., 1., 1., 0.,\n",
       "        0., 0., 0., 1., 1., 1., 0., 1., 1., 0., 1., 0., 0., 0., 0., 1.,\n",
       "        0., 0., 1., 1., 1., 0., 1., 0., 0., 0., 0., 0., 1., 1., 0., 1.,\n",
       "        1., 0., 0., 0., 0., 0., 0., 0., 0., 0., 0., 1., 0., 0., 0., 1.,\n",
       "        0., 0., 0., 0., 0., 0., 0., 0., 1., 0., 0., 1., 0., 1., 0., 1.,\n",
       "        0., 1., 0., 0., 0., 1., 0., 1., 1., 0., 0., 0., 1., 0., 0., 0.,\n",
       "        0., 1., 1., 0., 1., 0., 1., 1., 1., 0., 0., 0., 0., 0., 0., 0.,\n",
       "        0., 1., 1., 1., 0., 1., 0., 0., 1., 0., 0., 1., 0., 0., 1., 1.,\n",
       "        1., 0., 1., 1., 0., 0., 1., 0., 0., 1., 0., 0., 0., 0., 0., 1.,\n",
       "        1., 0., 1., 0., 1., 1., 1., 1., 1., 0., 0., 0., 1., 0., 1., 0.,\n",
       "        1., 1., 1., 1., 0., 1., 0., 1., 0., 0., 0., 0., 1., 0., 1., 1.,\n",
       "        0., 0., 0., 0., 0., 0., 1., 1., 1., 0., 1., 1., 1., 1., 0., 1.,\n",
       "        1., 0., 1., 0., 0., 1., 0., 0., 0., 0., 1., 1., 0., 0., 0., 0.,\n",
       "        1., 0., 1., 1., 1., 1., 0., 1., 0., 0., 1., 0., 1., 0., 1., 1.,\n",
       "        1., 1., 0., 1., 0., 0., 0., 1., 0., 1., 0., 0., 1., 0., 0., 1.,\n",
       "        1., 0., 0., 0., 1., 1., 0., 0., 1., 0., 0., 0., 1., 0., 0., 0.,\n",
       "        1., 1., 0., 1., 0., 0., 0., 0., 0., 0., 0., 0., 1., 1., 0., 1.,\n",
       "        0., 1., 1., 1., 1., 0., 0., 0., 1., 0., 0., 0., 0., 1., 0., 0.,\n",
       "        0., 1., 1., 1., 0., 1., 1., 1., 1., 0., 1., 1., 0., 1., 0., 1.,\n",
       "        1., 1., 1., 1., 0., 0., 0., 1., 1., 0., 1., 0., 0., 0., 0., 0.,\n",
       "        1., 0., 1., 1., 1., 0., 0., 1., 0., 0., 0., 1., 1., 0., 1., 1.,\n",
       "        1., 0., 0., 0., 0., 0., 0., 1., 1., 0., 1., 1., 0., 0., 1., 1.,\n",
       "        1., 1., 1., 1., 0., 0., 0., 1., 1., 1., 1., 0., 1., 0., 0., 0.,\n",
       "        1., 1., 1., 0., 0., 0., 1., 1., 0., 1., 0., 1., 0., 1., 0., 1.,\n",
       "        1., 1., 0., 0., 0., 1., 0., 0., 0., 0., 1., 0., 1., 1., 1., 1.,\n",
       "        0., 0., 0., 0., 1., 0., 0., 1.]])"
      ]
     },
     "execution_count": 41,
     "metadata": {},
     "output_type": "execute_result"
    }
   ],
   "source": [
    "prediction"
   ]
  },
  {
   "cell_type": "code",
   "execution_count": 43,
   "metadata": {},
   "outputs": [
    {
     "data": {
      "text/plain": [
       "matrix([[1.],\n",
       "        [0.],\n",
       "        [1.],\n",
       "        ...,\n",
       "        [1.],\n",
       "        [0.],\n",
       "        [1.]])"
      ]
     },
     "execution_count": 43,
     "metadata": {},
     "output_type": "execute_result"
    }
   ],
   "source": [
    "y_data"
   ]
  },
  {
   "cell_type": "code",
   "execution_count": null,
   "metadata": {
    "collapsed": true
   },
   "outputs": [],
   "source": []
  }
 ],
 "metadata": {
  "kernelspec": {
   "display_name": "Python 3",
   "language": "python",
   "name": "python3"
  },
  "language_info": {
   "codemirror_mode": {
    "name": "ipython",
    "version": 3
   },
   "file_extension": ".py",
   "mimetype": "text/x-python",
   "name": "python",
   "nbconvert_exporter": "python",
   "pygments_lexer": "ipython3",
   "version": "3.6.1"
  }
 },
 "nbformat": 4,
 "nbformat_minor": 2
}
